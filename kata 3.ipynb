{
 "cells": [
  {
   "cell_type": "markdown",
   "metadata": {},
   "source": [
    "## Un asteroide se acerca y viaja a 49 Km/s"
   ]
  },
  {
   "cell_type": "code",
   "execution_count": 2,
   "metadata": {},
   "outputs": [
    {
     "name": "stdout",
     "output_type": "stream",
     "text": [
      "Advertencia, asteroide acercando a 49km/s\n"
     ]
    }
   ],
   "source": [
    "asteroide=49\n",
    "if asteroide>=49:\n",
    "    print(\"Advertencia, asteroide acercando a \"+ str (asteroide) +\"km/s\")\n",
    "else:\n",
    "    print(\"Asteroide por debajo de velocidad peligrosa\")"
   ]
  },
  {
   "cell_type": "markdown",
   "metadata": {},
   "source": [
    "## Asteroide entrando a la atmosfera"
   ]
  },
  {
   "cell_type": "code",
   "execution_count": 24,
   "metadata": {},
   "outputs": [
    {
     "name": "stdout",
     "output_type": "stream",
     "text": [
      "asteroide a 19km/s, velocidad de ingreso muy baja no producira luz\n"
     ]
    }
   ],
   "source": [
    "asteroide=19\n",
    "if asteroide==20:\n",
    "    print(\"Asteroide ingresando a atmosfera a \"+ str(asteroide) +\"km/s busca un rayo de luz en el cielo\")\n",
    "elif asteroide>=20:\n",
    "    print(\"Asteroide ingresando a atmosfera a \"+ str(asteroide) +\"km/s busca un rayo de luz en el cielo\")\n",
    "else:\n",
    "    print(\"asteroide a \"+ str(asteroide) +\"km/s, velocidad de ingreso muy baja no producira luz\" ) \n"
   ]
  },
  {
   "cell_type": "markdown",
   "metadata": {},
   "source": [
    "## Asteroide de velocidad y tamaño variable"
   ]
  },
  {
   "cell_type": "code",
   "execution_count": 1,
   "metadata": {},
   "outputs": [
    {
     "name": "stdout",
     "output_type": "stream",
     "text": [
      "Bienvenido usuario\n",
      "no hay asteroide nada de que preocuparse\n"
     ]
    }
   ],
   "source": [
    "print(\"Bienvenido usuario\")\n",
    "AsteroideSize=input(\"introduzca el tamaño del asteroide avistado\")\n",
    "AsteroideSpeed=input(\"introduzca la velocidad del asteroide\")\n",
    "if int(AsteroideSize)==0 or int(AsteroideSize)<0:\n",
    "    print(\"no hay asteroide nada de que preocuparse\")\n",
    "elif int(AsteroideSize) <= 25 and int(AsteroideSpeed) < 20:\n",
    "    print(\"El asteroide no supone una amenaza y no producira luz\")\n",
    "elif int(AsteroideSize) <= 25 and int(AsteroideSpeed) >=20:\n",
    "    print(\"El asteroide no supone un peligro pero producira luz, busquelo en el cielo\")\n",
    "elif (int(AsteroideSize) > 25 and int(AsteroideSize) <= 1000) and int(AsteroideSpeed)>=20:\n",
    "    print(\"el asteroide causara mucho daño y producira luz, busque refugio\")\n",
    "elif (int(AsteroideSize) > 25 and int(AsteroideSize) <= 1000) and int(AsteroideSpeed)<20:\n",
    "    print(\"el asteroide causara mucho daño y no producira luz, busque refugio\")\n",
    "else:\n",
    "    print(\"asteroide con tamaño para clasificacion de evento de extincion, independiente a si producira luz o no busque refugio\")"
   ]
  }
 ],
 "metadata": {
  "interpreter": {
   "hash": "099e279ab4003160a9b1b90a0034bbc57419d1885a79a16ca9977183e7d654b8"
  },
  "kernelspec": {
   "display_name": "Python 3.10.2 64-bit (windows store)",
   "language": "python",
   "name": "python3"
  },
  "language_info": {
   "codemirror_mode": {
    "name": "ipython",
    "version": 3
   },
   "file_extension": ".py",
   "mimetype": "text/x-python",
   "name": "python",
   "nbconvert_exporter": "python",
   "pygments_lexer": "ipython3",
   "version": "3.10.2"
  },
  "orig_nbformat": 4
 },
 "nbformat": 4,
 "nbformat_minor": 2
}
