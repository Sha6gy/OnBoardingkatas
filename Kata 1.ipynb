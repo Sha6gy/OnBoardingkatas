{
 "cells": [
  {
   "cell_type": "markdown",
   "metadata": {},
   "source": [
    "## Tu primer programa (fecha)"
   ]
  },
  {
   "cell_type": "code",
   "execution_count": 5,
   "metadata": {},
   "outputs": [
    {
     "name": "stdout",
     "output_type": "stream",
     "text": [
      "today's date is: 2022-02-12\n"
     ]
    }
   ],
   "source": [
    "from datetime import date\n",
    "print(\"today's date is: \"+str(date.today()))"
   ]
  },
  {
   "cell_type": "markdown",
   "metadata": {},
   "source": [
    "## Construir un convertidor de unidades"
   ]
  },
  {
   "cell_type": "code",
   "execution_count": 3,
   "metadata": {},
   "outputs": [
    {
     "name": "stdout",
     "output_type": "stream",
     "text": [
      "Bienvenido al programa de conversion\n",
      "5.37 parsec, is 17.3534772 lightyears\n"
     ]
    }
   ],
   "source": [
    "print(\"Bienvenido al programa de conversion\")\n",
    "parsec=input(\"Introduzca los parsecs que desea convertir a años luz\")\n",
    "lightyears=float(parsec)*3.23156\n",
    "print(str(parsec)+\" parsec, is \"+str(lightyears)+\" lightyears\")"
   ]
  }
 ],
 "metadata": {
  "interpreter": {
   "hash": "3e6d73b476d4936eced2c750b86fab3a91f9194235a8878ca669426c62d43a39"
  },
  "kernelspec": {
   "display_name": "Python 3.10.2 64-bit",
   "language": "python",
   "name": "python3"
  },
  "language_info": {
   "codemirror_mode": {
    "name": "ipython",
    "version": 3
   },
   "file_extension": ".py",
   "mimetype": "text/x-python",
   "name": "python",
   "nbconvert_exporter": "python",
   "pygments_lexer": "ipython3",
   "version": "3.10.2"
  },
  "orig_nbformat": 4
 },
 "nbformat": 4,
 "nbformat_minor": 2
}
