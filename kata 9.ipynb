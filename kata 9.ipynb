{
 "cells": [
  {
   "cell_type": "markdown",
   "metadata": {},
   "source": [
    "# Ejercicio 1: Trabajar con argumentos en funciones\n",
    "\n"
   ]
  },
  {
   "cell_type": "code",
   "execution_count": 31,
   "metadata": {},
   "outputs": [],
   "source": [
    "# Función para leer 3 tanques de combustible y muestre el promedio\n",
    "def tanquesCombustible(tanque1, tanque2, tanque3):\n",
    "    promedio=(tanque1 + tanque2 + tanque3) / 3\n",
    "    return f\"\"\"Tanques de combustible: \\n tanque 1: {tanque1}\\n tanque 2: {tanque2}\\n tanque 3: {tanque3}\\n Promedio de los tanques: {promedio}\"\"\"\n"
   ]
  },
  {
   "cell_type": "code",
   "execution_count": 33,
   "metadata": {},
   "outputs": [
    {
     "name": "stdout",
     "output_type": "stream",
     "text": [
      "Tanques de combustible: \n",
      " tanque 1: 64\n",
      " tanque 2: 32\n",
      " tanque 03: 78\n",
      " Promedio de los tanques: 58.0\n"
     ]
    }
   ],
   "source": [
    "# Llamamos a la función que genera el reporte print(funcion(tanque1, tanque2, tanque3))\n",
    "print(tanquesCombustible(64, 32, 78))"
   ]
  },
  {
   "cell_type": "code",
   "execution_count": 41,
   "metadata": {},
   "outputs": [
    {
     "data": {
      "text/plain": [
       "58.0"
      ]
     },
     "execution_count": 41,
     "metadata": {},
     "output_type": "execute_result"
    }
   ],
   "source": [
    "# Función promedio \n",
    "def prom(values):\n",
    "    sumatoria = sum(values)\n",
    "    numeros = len(values)\n",
    "    return sumatoria / numeros\n",
    "prom([64,32,78])"
   ]
  },
  {
   "cell_type": "code",
   "execution_count": 46,
   "metadata": {},
   "outputs": [
    {
     "name": "stdout",
     "output_type": "stream",
     "text": [
      "Tanques de combustible: \n",
      " tanque 1: 80\n",
      " tanque 2: 56\n",
      " tanque 3: 93\n",
      " Promedio de los tanques: 76.33333333333333\n"
     ]
    }
   ],
   "source": [
    "# Actualiza la función\n",
    "def tanquesCombustible(tanque1, tanque2, tanque3):\n",
    "    return f\"\"\"Tanques de combustible: \\n tanque 1: {tanque1}\\n tanque 2: {tanque2}\\n tanque 3: {tanque3}\\n Promedio de los tanques: {prom([tanque1,tanque2,tanque3])}\"\"\"\n",
    "print(tanquesCombustible(80,56,93))"
   ]
  },
  {
   "cell_type": "markdown",
   "metadata": {},
   "source": [
    "## Ejercicio 2: Trabajo con argumentos de palabra clave"
   ]
  },
  {
   "cell_type": "code",
   "execution_count": 57,
   "metadata": {},
   "outputs": [
    {
     "name": "stdout",
     "output_type": "stream",
     "text": [
      "Mision a: Marte\n",
      " Prelanzamiento previsto a: 14:00\n",
      " Condicion de tanque externo: 100\n",
      " Condicion de tanque interno: 98\n",
      " tiempo de vuelo:72 dias\n"
     ]
    }
   ],
   "source": [
    "# Función con un informe preciso de la misión. Considera hora de prelanzamiento, tiempo de vuelo, destino,\n",
    "# tanque externo y tanque interno\n",
    "def mision(destino,prelanzamiento,tiempoVuelo,tanqueExterno,tanqueInterno):\n",
    "     return f\"\"\"Mision a: {destino}\\n Prelanzamiento previsto a: {prelanzamiento}\\n Condicion de tanque externo: {tanqueExterno}\\n Condicion de tanque interno: {tanqueInterno}\\n tiempo de vuelo:{tiempoVuelo} dias\"\"\"\n",
    "print(mision('Marte','14:00',72, 100, 98))"
   ]
  },
  {
   "cell_type": "code",
   "execution_count": 70,
   "metadata": {},
   "outputs": [
    {
     "name": "stdout",
     "output_type": "stream",
     "text": [
      "Mision a: Calipso\n",
      " Reserva de combustible: 394 litros\n",
      " Tiempo total de viaje: 370 minutos\n"
     ]
    }
   ],
   "source": [
    "# Escribe tu nueva función de reporte considerando lo anterior\n",
    "def misionargs(destino2,*minutos,**reservasCombustible):\n",
    "    return f\"\"\"Mision a: {destino2}\\n Reserva de combustible: {sum(reservasCombustible.values())} litros\\n Tiempo total de viaje: {sum(minutos)} minutos\"\"\"\n",
    "print(misionargs('Calipso', 120,170,80, tanqueIn=178, tanqueExt=216))"
   ]
  },
  {
   "cell_type": "code",
   "execution_count": 75,
   "metadata": {},
   "outputs": [
    {
     "name": "stdout",
     "output_type": "stream",
     "text": [
      "Mision a: Calipso\n",
      " Reserva de combustible: 394 litros\n",
      " Tiempo total de viaje: 370 minutos\n",
      "tanqueIn= 178 litros\n",
      "\n",
      "tanqueExt= 216 litros\n",
      "\n"
     ]
    }
   ],
   "source": [
    "# Escribe tu nueva función\n",
    "def misionargs(destino2,*minutos,**reservasCombustible):\n",
    "    reporte=f\"\"\"Mision a: {destino2}\\n Reserva de combustible: {sum(reservasCombustible.values())} litros\\n Tiempo total de viaje: {sum(minutos)} minutos\"\"\"\n",
    "    for nombreTanque, lt in reservasCombustible.items():\n",
    "        reporte += f\"\\n{nombreTanque}= {lt} litros\\n\"\n",
    "    return reporte\n",
    "print(misionargs('Calipso', 120,170,80, tanqueIn=178, tanqueExt=216))"
   ]
  }
 ],
 "metadata": {
  "interpreter": {
   "hash": "099e279ab4003160a9b1b90a0034bbc57419d1885a79a16ca9977183e7d654b8"
  },
  "kernelspec": {
   "display_name": "Python 3.10.2 64-bit (windows store)",
   "language": "python",
   "name": "python3"
  },
  "language_info": {
   "codemirror_mode": {
    "name": "ipython",
    "version": 3
   },
   "file_extension": ".py",
   "mimetype": "text/x-python",
   "name": "python",
   "nbconvert_exporter": "python",
   "pygments_lexer": "ipython3",
   "version": "3.10.2"
  },
  "orig_nbformat": 4
 },
 "nbformat": 4,
 "nbformat_minor": 2
}
